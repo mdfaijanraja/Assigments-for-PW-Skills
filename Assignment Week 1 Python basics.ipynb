{
 "cells": [
  {
   "cell_type": "markdown",
   "id": "5dcc9493-b7f5-4f07-9c9c-ee3e7e5b7544",
   "metadata": {},
   "source": [
    "Q1. Create one variable containing following type of data:\n",
    "(i) string\n",
    "(ii) list\n",
    "(iii) float\n",
    "(iv) tuple"
   ]
  },
  {
   "cell_type": "code",
   "execution_count": 6,
   "id": "8f975e00-dba2-41cc-b263-ff4aa323424c",
   "metadata": {},
   "outputs": [],
   "source": [
    "# 1(i) string"
   ]
  },
  {
   "cell_type": "code",
   "execution_count": 7,
   "id": "42f50210-a2b1-415c-930f-6fd439798e11",
   "metadata": {},
   "outputs": [],
   "source": [
    "a = \"Faijan\""
   ]
  },
  {
   "cell_type": "code",
   "execution_count": 8,
   "id": "259aae0d-b191-4c88-9c62-d4ad3bde86ea",
   "metadata": {},
   "outputs": [
    {
     "data": {
      "text/plain": [
       "'Faijan'"
      ]
     },
     "execution_count": 8,
     "metadata": {},
     "output_type": "execute_result"
    }
   ],
   "source": [
    "a"
   ]
  },
  {
   "cell_type": "code",
   "execution_count": 9,
   "id": "e751b756-5f8e-41ce-bae7-f0cee262ae9f",
   "metadata": {},
   "outputs": [
    {
     "data": {
      "text/plain": [
       "str"
      ]
     },
     "execution_count": 9,
     "metadata": {},
     "output_type": "execute_result"
    }
   ],
   "source": [
    "type(a)"
   ]
  },
  {
   "cell_type": "code",
   "execution_count": 10,
   "id": "32ee1514-0391-4f27-a0b8-beddf2f45b4e",
   "metadata": {},
   "outputs": [],
   "source": [
    "# 1(ii) list"
   ]
  },
  {
   "cell_type": "code",
   "execution_count": 11,
   "id": "b3b89599-da7b-42bc-8244-7028fa13defb",
   "metadata": {},
   "outputs": [],
   "source": [
    "l = [\"ab\", \"bdgb\", 45, 45.7, 1+2j ]"
   ]
  },
  {
   "cell_type": "code",
   "execution_count": 12,
   "id": "34b40eeb-eb9f-4947-a007-ae25ff437ae9",
   "metadata": {},
   "outputs": [
    {
     "data": {
      "text/plain": [
       "['ab', 'bdgb', 45, 45.7, (1+2j)]"
      ]
     },
     "execution_count": 12,
     "metadata": {},
     "output_type": "execute_result"
    }
   ],
   "source": [
    "l"
   ]
  },
  {
   "cell_type": "code",
   "execution_count": 13,
   "id": "ec111f00-0c78-4ea9-b125-038b0847dfef",
   "metadata": {},
   "outputs": [
    {
     "data": {
      "text/plain": [
       "list"
      ]
     },
     "execution_count": 13,
     "metadata": {},
     "output_type": "execute_result"
    }
   ],
   "source": [
    "type(l)"
   ]
  },
  {
   "cell_type": "code",
   "execution_count": 14,
   "id": "a9d2aee9-9f41-4348-84d4-82fa35b68f79",
   "metadata": {},
   "outputs": [
    {
     "data": {
      "text/plain": [
       "'ab'"
      ]
     },
     "execution_count": 14,
     "metadata": {},
     "output_type": "execute_result"
    }
   ],
   "source": [
    "l[0]"
   ]
  },
  {
   "cell_type": "code",
   "execution_count": 15,
   "id": "dbb3f485-a2ea-4376-b2ee-86b55683e91d",
   "metadata": {},
   "outputs": [],
   "source": [
    "l[0]= 1"
   ]
  },
  {
   "cell_type": "markdown",
   "id": "a093fd44-c703-46d2-aaa7-fbf30b53dddf",
   "metadata": {},
   "source": [
    "The above value can be modified in case of list, hence list is mutable"
   ]
  },
  {
   "cell_type": "code",
   "execution_count": 16,
   "id": "74f8c879-8d81-408b-ba5a-c0dd3b032981",
   "metadata": {},
   "outputs": [],
   "source": [
    "# 1(iii) float"
   ]
  },
  {
   "cell_type": "code",
   "execution_count": 17,
   "id": "343bdabb-6cf1-4a3d-b8d2-8302afe41986",
   "metadata": {},
   "outputs": [],
   "source": [
    "b = 43.4"
   ]
  },
  {
   "cell_type": "code",
   "execution_count": 18,
   "id": "03534a4e-8d37-482f-969c-c1cfa50a54e9",
   "metadata": {},
   "outputs": [
    {
     "data": {
      "text/plain": [
       "43.4"
      ]
     },
     "execution_count": 18,
     "metadata": {},
     "output_type": "execute_result"
    }
   ],
   "source": [
    "b"
   ]
  },
  {
   "cell_type": "code",
   "execution_count": 19,
   "id": "f54b8d2b-ffb6-4b2c-b743-4b2cdab5640d",
   "metadata": {},
   "outputs": [
    {
     "data": {
      "text/plain": [
       "float"
      ]
     },
     "execution_count": 19,
     "metadata": {},
     "output_type": "execute_result"
    }
   ],
   "source": [
    "type(b)"
   ]
  },
  {
   "cell_type": "code",
   "execution_count": 20,
   "id": "713c9a0f-a605-4e0f-b9f7-5f0cf4472f5f",
   "metadata": {},
   "outputs": [],
   "source": [
    "# 1(iv) tuple"
   ]
  },
  {
   "cell_type": "code",
   "execution_count": 21,
   "id": "62658325-178c-4bac-a8b1-0cc377eaabb5",
   "metadata": {},
   "outputs": [],
   "source": [
    "t = (\"ab\", \"sdhsd\", 3, 5, 5, 8+78j)"
   ]
  },
  {
   "cell_type": "code",
   "execution_count": 22,
   "id": "aef69b61-a48e-404b-9cf4-8708c911a045",
   "metadata": {},
   "outputs": [
    {
     "data": {
      "text/plain": [
       "('ab', 'sdhsd', 3, 5, 5, (8+78j))"
      ]
     },
     "execution_count": 22,
     "metadata": {},
     "output_type": "execute_result"
    }
   ],
   "source": [
    "t"
   ]
  },
  {
   "cell_type": "code",
   "execution_count": 23,
   "id": "1119afd5-978f-4fcd-8b69-49b572241bc6",
   "metadata": {},
   "outputs": [
    {
     "data": {
      "text/plain": [
       "tuple"
      ]
     },
     "execution_count": 23,
     "metadata": {},
     "output_type": "execute_result"
    }
   ],
   "source": [
    "type(t)"
   ]
  },
  {
   "cell_type": "code",
   "execution_count": 24,
   "id": "6defba7b-be5d-404a-842e-166bb3291417",
   "metadata": {},
   "outputs": [
    {
     "data": {
      "text/plain": [
       "'ab'"
      ]
     },
     "execution_count": 24,
     "metadata": {},
     "output_type": "execute_result"
    }
   ],
   "source": [
    "t[0]"
   ]
  },
  {
   "cell_type": "code",
   "execution_count": 25,
   "id": "7be183c5-8e48-4ba5-95b3-7ce35decc357",
   "metadata": {},
   "outputs": [
    {
     "ename": "TypeError",
     "evalue": "'tuple' object does not support item assignment",
     "output_type": "error",
     "traceback": [
      "\u001b[0;31m---------------------------------------------------------------------------\u001b[0m",
      "\u001b[0;31mTypeError\u001b[0m                                 Traceback (most recent call last)",
      "Cell \u001b[0;32mIn[25], line 1\u001b[0m\n\u001b[0;32m----> 1\u001b[0m \u001b[43mt\u001b[49m\u001b[43m[\u001b[49m\u001b[38;5;241;43m0\u001b[39;49m\u001b[43m]\u001b[49m\u001b[38;5;241m=\u001b[39m \u001b[38;5;241m34\u001b[39m\n",
      "\u001b[0;31mTypeError\u001b[0m: 'tuple' object does not support item assignment"
     ]
    }
   ],
   "source": [
    "t[0]= 34"
   ]
  },
  {
   "cell_type": "markdown",
   "id": "be7ac7f5-49f0-4b31-a986-8cb48e4c400a",
   "metadata": {},
   "source": [
    "The above value cannot be modified in case of list, hence tuple is immutable"
   ]
  },
  {
   "cell_type": "markdown",
   "id": "f31fb115-fc39-4edd-a3a6-a077c347f35b",
   "metadata": {},
   "source": [
    "Q2. Given are some following variables containing data:\n",
    "(i) var1 = ‘ ‘ --> str\n",
    "(ii) var2 = ‘[ DS , ML , Python]’ --> str\n",
    "(iii) var3 = [ ‘DS’ , ’ML’ , ‘Python’ ] --> List\n",
    "(iv) var4 = 1. --> float\n",
    "What will be the data type of the above given variable."
   ]
  },
  {
   "cell_type": "code",
   "execution_count": 26,
   "id": "14428465-5adf-4619-94ce-f31de7f414e9",
   "metadata": {},
   "outputs": [],
   "source": [
    "var1 =''"
   ]
  },
  {
   "cell_type": "code",
   "execution_count": 27,
   "id": "ad8558d0-8cd0-439e-a3c7-997764f97a3e",
   "metadata": {},
   "outputs": [
    {
     "data": {
      "text/plain": [
       "str"
      ]
     },
     "execution_count": 27,
     "metadata": {},
     "output_type": "execute_result"
    }
   ],
   "source": [
    "type(var1)"
   ]
  },
  {
   "cell_type": "code",
   "execution_count": 28,
   "id": "8fd5f856-720f-4238-b087-78cba2e2c5ab",
   "metadata": {},
   "outputs": [],
   "source": [
    "var2= '[DS, ML, Python]'"
   ]
  },
  {
   "cell_type": "code",
   "execution_count": 29,
   "id": "e08adb0e-70ea-4495-b1a7-cda7afa1fc19",
   "metadata": {},
   "outputs": [
    {
     "data": {
      "text/plain": [
       "str"
      ]
     },
     "execution_count": 29,
     "metadata": {},
     "output_type": "execute_result"
    }
   ],
   "source": [
    "type(var2)"
   ]
  },
  {
   "cell_type": "code",
   "execution_count": 30,
   "id": "46ccea3f-f90b-4c98-a608-960fc5138be1",
   "metadata": {},
   "outputs": [],
   "source": [
    "var3= ['DS', 'ML', 'Python']"
   ]
  },
  {
   "cell_type": "code",
   "execution_count": 31,
   "id": "18a3fde4-373b-498c-813e-a059e35883c7",
   "metadata": {},
   "outputs": [
    {
     "data": {
      "text/plain": [
       "list"
      ]
     },
     "execution_count": 31,
     "metadata": {},
     "output_type": "execute_result"
    }
   ],
   "source": [
    "type(var3)"
   ]
  },
  {
   "cell_type": "code",
   "execution_count": 32,
   "id": "0c59fdc4-15c7-421c-8de2-4fcaac5a5fbf",
   "metadata": {},
   "outputs": [],
   "source": [
    "var4 =1."
   ]
  },
  {
   "cell_type": "code",
   "execution_count": 33,
   "id": "9ecb51bb-0415-473e-acd9-1f50805bab8f",
   "metadata": {},
   "outputs": [
    {
     "data": {
      "text/plain": [
       "float"
      ]
     },
     "execution_count": 33,
     "metadata": {},
     "output_type": "execute_result"
    }
   ],
   "source": [
    "type(var4)"
   ]
  },
  {
   "cell_type": "markdown",
   "id": "555cdd6d-9811-4aab-8a49-64c5eb33562c",
   "metadata": {},
   "source": [
    "Q3. Explain the use of the following operators using an example:\n",
    "(i) /\n",
    "(ii) %\n",
    "(iii) //\n",
    "(iv) **"
   ]
  },
  {
   "cell_type": "code",
   "execution_count": 34,
   "id": "4a9ea90d-ee20-44c6-b4aa-0f5966b0e895",
   "metadata": {},
   "outputs": [],
   "source": [
    "# Q3. (i) / --> This is an arithematic operator used for dividing the numbers. Below is the example:"
   ]
  },
  {
   "cell_type": "code",
   "execution_count": 35,
   "id": "600e5382-4e32-4910-9c40-3091897fe505",
   "metadata": {},
   "outputs": [
    {
     "data": {
      "text/plain": [
       "0.75"
      ]
     },
     "execution_count": 35,
     "metadata": {},
     "output_type": "execute_result"
    }
   ],
   "source": [
    "3/4"
   ]
  },
  {
   "cell_type": "code",
   "execution_count": 36,
   "id": "13038be5-6c12-4997-85be-ff23f332a10a",
   "metadata": {},
   "outputs": [],
   "source": [
    "# Q3. (ii) % --> This is an operator used for getting the remainder afer diving two numbers. Below is the example:"
   ]
  },
  {
   "cell_type": "code",
   "execution_count": 37,
   "id": "e9bb38f4-3f24-4a4e-a820-82436418165d",
   "metadata": {},
   "outputs": [
    {
     "data": {
      "text/plain": [
       "1"
      ]
     },
     "execution_count": 37,
     "metadata": {},
     "output_type": "execute_result"
    }
   ],
   "source": [
    "4%3"
   ]
  },
  {
   "cell_type": "code",
   "execution_count": 38,
   "id": "4d696976-d62e-4483-b218-5aba15b2106e",
   "metadata": {},
   "outputs": [],
   "source": [
    "# Q3. (iii) // --> This is an operator used for getting the floor or quotient after dividing two numbers. Below is the example:"
   ]
  },
  {
   "cell_type": "code",
   "execution_count": 39,
   "id": "8d4e09da-cae4-4c18-b78c-3fbc7f2979ce",
   "metadata": {},
   "outputs": [
    {
     "data": {
      "text/plain": [
       "2"
      ]
     },
     "execution_count": 39,
     "metadata": {},
     "output_type": "execute_result"
    }
   ],
   "source": [
    "4//2"
   ]
  },
  {
   "cell_type": "code",
   "execution_count": 40,
   "id": "a90428e0-3019-47e7-a5e9-dfc2ad2901ad",
   "metadata": {},
   "outputs": [],
   "source": [
    "# Q3. (iv) ** --> This is an operator used for providing Power to the number. Below is the example:"
   ]
  },
  {
   "cell_type": "code",
   "execution_count": 41,
   "id": "b12f0d34-4b6b-430f-ac9b-77f895b61ce7",
   "metadata": {},
   "outputs": [
    {
     "data": {
      "text/plain": [
       "32"
      ]
     },
     "execution_count": 41,
     "metadata": {},
     "output_type": "execute_result"
    }
   ],
   "source": [
    "2**5"
   ]
  },
  {
   "cell_type": "markdown",
   "id": "be26d097-d7b7-463d-9c11-a0eb0d12da3e",
   "metadata": {},
   "source": [
    "Q4. Create a list of length 10 of your choice containing multiple types of data. Using for loop print the\n",
    "element and its data type."
   ]
  },
  {
   "cell_type": "code",
   "execution_count": 42,
   "id": "af557f10-a7e7-45a3-8ed8-6b9b4044277d",
   "metadata": {},
   "outputs": [],
   "source": [
    "list = [1, 2, 'Faijan', 47.8, 3+8j, 'sudh', 'krish', 34.9,  76, 3]"
   ]
  },
  {
   "cell_type": "code",
   "execution_count": 43,
   "id": "6bde70f8-5d84-4a80-9708-15150e4acb47",
   "metadata": {},
   "outputs": [
    {
     "data": {
      "text/plain": [
       "list"
      ]
     },
     "execution_count": 43,
     "metadata": {},
     "output_type": "execute_result"
    }
   ],
   "source": [
    "type(list)"
   ]
  },
  {
   "cell_type": "code",
   "execution_count": 44,
   "id": "22c06bf6-5382-471b-8871-bb6eca67eda2",
   "metadata": {},
   "outputs": [
    {
     "data": {
      "text/plain": [
       "10"
      ]
     },
     "execution_count": 44,
     "metadata": {},
     "output_type": "execute_result"
    }
   ],
   "source": [
    "len(list)"
   ]
  },
  {
   "cell_type": "code",
   "execution_count": 45,
   "id": "f6b0d264-455a-4629-af4f-7fefd103aa3f",
   "metadata": {},
   "outputs": [
    {
     "name": "stdout",
     "output_type": "stream",
     "text": [
      "1\n",
      "<class 'int'>\n",
      "2\n",
      "<class 'int'>\n",
      "Faijan\n",
      "<class 'str'>\n",
      "47.8\n",
      "<class 'float'>\n",
      "(3+8j)\n",
      "<class 'complex'>\n",
      "sudh\n",
      "<class 'str'>\n",
      "krish\n",
      "<class 'str'>\n",
      "34.9\n",
      "<class 'float'>\n",
      "76\n",
      "<class 'int'>\n",
      "3\n",
      "<class 'int'>\n"
     ]
    }
   ],
   "source": [
    "for i in list:\n",
    "    print(i)\n",
    "    print(type(i))"
   ]
  },
  {
   "cell_type": "code",
   "execution_count": null,
   "id": "eea7895a-6c94-49cc-9d23-02fa6db0b20a",
   "metadata": {},
   "outputs": [],
   "source": []
  },
  {
   "cell_type": "markdown",
   "id": "a68db2c6-94d0-4595-9231-96bae6355989",
   "metadata": {},
   "source": [
    "Q5. Using a while loop, verify if the number A is purely divisible by number B and if so then how many\n",
    "times it can be divisible."
   ]
  },
  {
   "cell_type": "code",
   "execution_count": 47,
   "id": "b3983624-7c98-443e-bbf3-07a29951a318",
   "metadata": {},
   "outputs": [
    {
     "name": "stdin",
     "output_type": "stream",
     "text": [
      "Please enter a number A:  100\n",
      "Please enter the number B you want to check divisibility with A:  5\n"
     ]
    },
    {
     "name": "stdout",
     "output_type": "stream",
     "text": [
      "The number A is purely divisible by B and 2 times\n"
     ]
    }
   ],
   "source": [
    "a = int(input(\"Please enter a number A: \"))\n",
    "b = int(input(\"Please enter the number B you want to check divisibility with A: \"))\n",
    "\n",
    "sum=0\n",
    "while a%b==0:\n",
    "    sum=sum+1\n",
    "    a=a//b\n",
    "\n",
    "if sum==0:\n",
    "    print(\"The number A is not completely divisible by B\")\n",
    "else:\n",
    "    print(\"The number A is purely divisible by B and \" + str(sum) + \" times\")"
   ]
  },
  {
   "cell_type": "raw",
   "id": "0ad9fd66-e281-413a-89a0-40cd2e84a209",
   "metadata": {},
   "source": []
  },
  {
   "cell_type": "markdown",
   "id": "f1967ee3-9741-49a8-9385-cc5758dba7d0",
   "metadata": {},
   "source": [
    "Q6. Create a list containing 25 int type data. Using for loop and if-else condition print if the element is\n",
    "divisible by 3 or not."
   ]
  },
  {
   "cell_type": "code",
   "execution_count": 48,
   "id": "57693a5a-91c8-4eb5-9381-c32e62e80511",
   "metadata": {},
   "outputs": [
    {
     "name": "stdout",
     "output_type": "stream",
     "text": [
      "range(1, 26)\n"
     ]
    }
   ],
   "source": [
    "l= range(1,26)\n",
    "print(l)"
   ]
  },
  {
   "cell_type": "code",
   "execution_count": 49,
   "id": "042b0a5e-f0cb-49ac-ba3b-eec0a42a6007",
   "metadata": {},
   "outputs": [
    {
     "data": {
      "text/plain": [
       "25"
      ]
     },
     "execution_count": 49,
     "metadata": {},
     "output_type": "execute_result"
    }
   ],
   "source": [
    "len(l)"
   ]
  },
  {
   "cell_type": "code",
   "execution_count": 50,
   "id": "3da094b4-132f-4c5d-85e5-b3841ca38c09",
   "metadata": {},
   "outputs": [
    {
     "name": "stdout",
     "output_type": "stream",
     "text": [
      "1 is not divisible by 3\n",
      "2 is not divisible by 3\n",
      "3 is divisible by 3\n",
      "4 is not divisible by 3\n",
      "5 is not divisible by 3\n",
      "6 is divisible by 3\n",
      "7 is not divisible by 3\n",
      "8 is not divisible by 3\n",
      "9 is divisible by 3\n",
      "10 is not divisible by 3\n",
      "11 is not divisible by 3\n",
      "12 is divisible by 3\n",
      "13 is not divisible by 3\n",
      "14 is not divisible by 3\n",
      "15 is divisible by 3\n",
      "16 is not divisible by 3\n",
      "17 is not divisible by 3\n",
      "18 is divisible by 3\n",
      "19 is not divisible by 3\n",
      "20 is not divisible by 3\n",
      "21 is divisible by 3\n",
      "22 is not divisible by 3\n",
      "23 is not divisible by 3\n",
      "24 is divisible by 3\n",
      "25 is not divisible by 3\n"
     ]
    }
   ],
   "source": [
    "for i in l:\n",
    "    if (((l[i-1])%3) == 0):\n",
    "        print(str(i) + \" is divisible by 3\")\n",
    "    else :\n",
    "        print(str(i)+ \" is not divisible by 3\")"
   ]
  },
  {
   "cell_type": "code",
   "execution_count": null,
   "id": "37471790-4077-4550-beb2-9bf2e12b50c8",
   "metadata": {},
   "outputs": [],
   "source": []
  },
  {
   "cell_type": "markdown",
   "id": "60db095e-50a8-474f-a2f3-672c89c06ab0",
   "metadata": {},
   "source": [
    "Q7. What do you understand about mutable and immutable data types? Give examples for both showing\n",
    "this property."
   ]
  },
  {
   "cell_type": "markdown",
   "id": "0c2e8487-f46a-4ed7-aca1-95e26e8870d5",
   "metadata": {},
   "source": [
    "Mutable are those data types for which elements in the data could be modified or changed or appended whereas immutable data types are those in which the elements inside the data cannot be replaced or modified or appended.\n",
    "\n",
    "Mutable data type examples : list\n",
    "Immutable data type examples : str, list"
   ]
  },
  {
   "cell_type": "code",
   "execution_count": 51,
   "id": "71bf297f-e2c6-43e8-ac69-55edb4fc2a09",
   "metadata": {},
   "outputs": [
    {
     "data": {
      "text/plain": [
       "list"
      ]
     },
     "execution_count": 51,
     "metadata": {},
     "output_type": "execute_result"
    }
   ],
   "source": [
    "# Examples of mutable data types:\n",
    "a = [2,3,4,5,\"sdf\", \"sdfsd\"]\n",
    "type(a)"
   ]
  },
  {
   "cell_type": "code",
   "execution_count": 52,
   "id": "b410b84d-d533-4021-af3c-7586ebdd0509",
   "metadata": {},
   "outputs": [
    {
     "data": {
      "text/plain": [
       "3"
      ]
     },
     "execution_count": 52,
     "metadata": {},
     "output_type": "execute_result"
    }
   ],
   "source": [
    "a[1]"
   ]
  },
  {
   "cell_type": "code",
   "execution_count": 53,
   "id": "1dd56d86-347e-4ad9-9c20-65fffc610617",
   "metadata": {},
   "outputs": [
    {
     "data": {
      "text/plain": [
       "[2, 4, 4, 5, 'sdf', 'sdfsd']"
      ]
     },
     "execution_count": 53,
     "metadata": {},
     "output_type": "execute_result"
    }
   ],
   "source": [
    "a[1]=4\n",
    "a"
   ]
  },
  {
   "cell_type": "raw",
   "id": "db4bc9dd-8ac1-4352-9044-9d6d78003d6b",
   "metadata": {},
   "source": [
    "Here with the help of index, we can change the value/ element in the list, hence list is mutable"
   ]
  },
  {
   "cell_type": "code",
   "execution_count": 54,
   "id": "94131644-d3ab-4ed6-ace7-64fb58c3a6bb",
   "metadata": {},
   "outputs": [
    {
     "data": {
      "text/plain": [
       "str"
      ]
     },
     "execution_count": 54,
     "metadata": {},
     "output_type": "execute_result"
    }
   ],
   "source": [
    "b= 'Faijan'\n",
    "type(b)"
   ]
  },
  {
   "cell_type": "code",
   "execution_count": 55,
   "id": "53274b42-6423-4a73-85e4-c2c5e0e06af6",
   "metadata": {},
   "outputs": [
    {
     "data": {
      "text/plain": [
       "'F'"
      ]
     },
     "execution_count": 55,
     "metadata": {},
     "output_type": "execute_result"
    }
   ],
   "source": [
    "b[0]"
   ]
  },
  {
   "cell_type": "code",
   "execution_count": 56,
   "id": "cd35c910-094a-4782-961d-3c76b13c1bb8",
   "metadata": {},
   "outputs": [
    {
     "ename": "TypeError",
     "evalue": "'str' object does not support item assignment",
     "output_type": "error",
     "traceback": [
      "\u001b[0;31m---------------------------------------------------------------------------\u001b[0m",
      "\u001b[0;31mTypeError\u001b[0m                                 Traceback (most recent call last)",
      "Cell \u001b[0;32mIn[56], line 1\u001b[0m\n\u001b[0;32m----> 1\u001b[0m \u001b[43mb\u001b[49m\u001b[43m[\u001b[49m\u001b[38;5;241;43m0\u001b[39;49m\u001b[43m]\u001b[49m\u001b[38;5;241m=\u001b[39m \u001b[38;5;124m'\u001b[39m\u001b[38;5;124mA\u001b[39m\u001b[38;5;124m'\u001b[39m\n",
      "\u001b[0;31mTypeError\u001b[0m: 'str' object does not support item assignment"
     ]
    }
   ],
   "source": [
    "b[0]= 'A'"
   ]
  },
  {
   "cell_type": "code",
   "execution_count": 57,
   "id": "39234680-256d-44aa-956f-e4ea6b3697db",
   "metadata": {},
   "outputs": [],
   "source": [
    "# Throwing error since it is immutable"
   ]
  },
  {
   "cell_type": "code",
   "execution_count": 58,
   "id": "32e2f7ef-ab47-4f59-9457-dd64ce3b4c1d",
   "metadata": {},
   "outputs": [
    {
     "data": {
      "text/plain": [
       "tuple"
      ]
     },
     "execution_count": 58,
     "metadata": {},
     "output_type": "execute_result"
    }
   ],
   "source": [
    "c = (1,2,3,3,56, \"Faijan\")\n",
    "type(c)"
   ]
  },
  {
   "cell_type": "code",
   "execution_count": 59,
   "id": "0d37cec2-a13c-47e9-a1fe-022dd7e3fe53",
   "metadata": {},
   "outputs": [
    {
     "ename": "TypeError",
     "evalue": "'tuple' object does not support item assignment",
     "output_type": "error",
     "traceback": [
      "\u001b[0;31m---------------------------------------------------------------------------\u001b[0m",
      "\u001b[0;31mTypeError\u001b[0m                                 Traceback (most recent call last)",
      "Cell \u001b[0;32mIn[59], line 1\u001b[0m\n\u001b[0;32m----> 1\u001b[0m \u001b[43mc\u001b[49m\u001b[43m[\u001b[49m\u001b[38;5;241;43m1\u001b[39;49m\u001b[43m]\u001b[49m\u001b[38;5;241m=\u001b[39m \u001b[38;5;241m2\u001b[39m\n",
      "\u001b[0;31mTypeError\u001b[0m: 'tuple' object does not support item assignment"
     ]
    }
   ],
   "source": [
    "c[1]= 2"
   ]
  },
  {
   "cell_type": "code",
   "execution_count": 60,
   "id": "27143911-0f7f-4a3f-94dc-91376f879af6",
   "metadata": {},
   "outputs": [],
   "source": [
    "# Throwing error since it is immutable"
   ]
  },
  {
   "cell_type": "raw",
   "id": "e1493c29-cc27-40e2-9625-552e6785b6ac",
   "metadata": {},
   "source": [
    "Here, in both the cases of string and tuple, we can see that the elements cannot be changed on the basic of thier index and throwing an error while trying the same. Though we can change the entire tuple and string by reassigning some different value to it. Since the elements inside the list couldn't be changed. therefore, string and tuples are immutuable."
   ]
  },
  {
   "cell_type": "markdown",
   "id": "de9b5d26-fc6f-4a2e-8199-dc7d26a579e2",
   "metadata": {},
   "source": [
    "*****************************-----------------------------*************************"
   ]
  },
  {
   "cell_type": "code",
   "execution_count": null,
   "id": "923fe3b2-07a9-4db5-a951-bf38a71ac369",
   "metadata": {},
   "outputs": [],
   "source": []
  }
 ],
 "metadata": {
  "kernelspec": {
   "display_name": "Python 3 (ipykernel)",
   "language": "python",
   "name": "python3"
  },
  "language_info": {
   "codemirror_mode": {
    "name": "ipython",
    "version": 3
   },
   "file_extension": ".py",
   "mimetype": "text/x-python",
   "name": "python",
   "nbconvert_exporter": "python",
   "pygments_lexer": "ipython3",
   "version": "3.10.8"
  }
 },
 "nbformat": 4,
 "nbformat_minor": 5
}
