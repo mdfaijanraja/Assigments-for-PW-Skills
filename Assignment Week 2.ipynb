{
 "cells": [
  {
   "cell_type": "markdown",
   "id": "0ea98a52-cd1b-41f5-b90b-31568dc1a976",
   "metadata": {},
   "source": [
    "# Assignment:"
   ]
  },
  {
   "cell_type": "markdown",
   "id": "2e61c8ae-37e2-4e2f-b607-d419ef7b9bd1",
   "metadata": {},
   "source": [
    "## Q1. How do you comment code in Python? What are the different types of comments?"
   ]
  },
  {
   "cell_type": "raw",
   "id": "2256a712-f029-4d66-9c48-fe369c8246fb",
   "metadata": {},
   "source": [
    "''' Comment can be done by various ways, some of them are listed below:\n",
    "    # Using Single Hastag, we can write our comment after # symbol.\n",
    "    # Marking the code as a Markdown. The Symbol can be changed in this is using #, ## and ### before the comment. (used for marking the questions)\n",
    "    # In makrdown, the header(depends on number of # used) can be of different size.\n",
    "    # We can also use \"\"\" before and after the comment for multi line comments if we wnat to write multiline comment.\n",
    "    # We can also mark the code as RAW so that we can it as a raw tab and the code won;t run. \n",
    "'''"
   ]
  },
  {
   "cell_type": "code",
   "execution_count": null,
   "id": "bd7c45a3-2d76-4428-b738-bf868d92c793",
   "metadata": {},
   "outputs": [],
   "source": []
  },
  {
   "cell_type": "markdown",
   "id": "b6121078-4e1c-41bb-8705-1d7402c419e2",
   "metadata": {},
   "source": [
    "## Q2. What are variables in Python? How do you declare and assign values to variables?"
   ]
  },
  {
   "cell_type": "raw",
   "id": "7e33165f-52d4-495e-9d12-3ad8c79d3c6e",
   "metadata": {},
   "source": [
    "''' Variables are used for assigning the values in the code or system. \n",
    "We can declare any variable with any name keeping in mind the below rules:\n",
    "1. The varibale name should not start with any number (1ase, 54j, etc.)\n",
    "2. The name of the variable should not start with any symbol or contain any symbol(!, @, #, $, %, ^, &, *, -, +, =)\n",
    "3. The name of the varibale should not be exactly matching with any method, object or function. (list, str, etc.)\n",
    "Examples of valid variables: Name1, Age, Gender, etc\n",
    "'''"
   ]
  },
  {
   "cell_type": "code",
   "execution_count": 16,
   "id": "552f2c53-c9d7-4184-b45b-5041f2de98cf",
   "metadata": {},
   "outputs": [],
   "source": [
    "# Example of varibles are as below:\n",
    "\n",
    "Name = \"Faijan\"\n",
    "Age = 26\n",
    "Gender = \"Male\""
   ]
  },
  {
   "cell_type": "markdown",
   "id": "13d585e1-d082-4c0a-908a-5275d48540cd",
   "metadata": {},
   "source": [
    "## Q3. How do you convert one data type to another in Python?"
   ]
  },
  {
   "cell_type": "raw",
   "id": "244c9f72-b9ac-4693-b1f1-23a2cb36e99a",
   "metadata": {},
   "source": [
    "# We can convert one type of data into another by the method called \"TypeCasting\". Below are the examples:\n",
    "\n",
    "number = \"25\" # Here the type(number) is String (str)\n",
    "int(number)  # This will convert the string datatype into integer datatype\n",
    "float(number) # This will convert the datatype into Decimal / Float type\n",
    "\n",
    "l =[1,2,3,4] # Here the type of l is list.\n",
    "tuple(l) # This will convert the list datatype into tuple\n",
    "set(l)  # This will convert the list datatype into set\n",
    "\n"
   ]
  },
  {
   "cell_type": "code",
   "execution_count": 17,
   "id": "cf1ed809-a6a9-4be4-a377-99d532c94251",
   "metadata": {},
   "outputs": [],
   "source": [
    "l =[1,2,3,4]"
   ]
  },
  {
   "cell_type": "code",
   "execution_count": 18,
   "id": "9f56c7dc-9f78-46e7-bcd4-f964975f79ac",
   "metadata": {},
   "outputs": [
    {
     "data": {
      "text/plain": [
       "(1, 2, 3, 4)"
      ]
     },
     "execution_count": 18,
     "metadata": {},
     "output_type": "execute_result"
    }
   ],
   "source": [
    "tuple(l)"
   ]
  },
  {
   "cell_type": "code",
   "execution_count": 19,
   "id": "54040a44-1014-42d0-aa8d-1c398794fb36",
   "metadata": {},
   "outputs": [
    {
     "data": {
      "text/plain": [
       "{1, 2, 3, 4}"
      ]
     },
     "execution_count": 19,
     "metadata": {},
     "output_type": "execute_result"
    }
   ],
   "source": [
    "set(l)"
   ]
  },
  {
   "cell_type": "code",
   "execution_count": 20,
   "id": "6098d454-a977-4a14-943c-0ea0f8358996",
   "metadata": {},
   "outputs": [
    {
     "data": {
      "text/plain": [
       "set"
      ]
     },
     "execution_count": 20,
     "metadata": {},
     "output_type": "execute_result"
    }
   ],
   "source": [
    "type(set(l))"
   ]
  },
  {
   "cell_type": "code",
   "execution_count": null,
   "id": "0350e5ae-f05e-445f-a231-8369e3daeb33",
   "metadata": {},
   "outputs": [],
   "source": []
  },
  {
   "cell_type": "markdown",
   "id": "ffcca0a6-7df2-4a3b-aa18-1bb8bcf74db3",
   "metadata": {},
   "source": [
    "## Q4. How do you write and execute a Python script from the command line?"
   ]
  },
  {
   "cell_type": "raw",
   "id": "ce3ee004-9fa8-42c8-a538-e5f80553dbb1",
   "metadata": {},
   "source": [
    "1. First, we have to make sure that python is installed in our pc/laptop.\n",
    "2. Let us suppose there is a code in python that we have done which should be saved with extension \".py\"\n",
    "Eg: sum.py\n",
    "3. In order to execute the code in python scrpit from command line, we first havce to open cmd(command prompt) and then go to the desired path where our python code exist. \n",
    "4. In cmd, we should go to the path like cd path/destination/\n",
    "5. After reaching to the path, we should write python file_name.py and then press enter, the code will be executed.\n",
    "\n",
    "## For editing anything in the scrpit, we can either install nano and then use nano command to edit the file\n",
    "Eg : we can write \"nano sum.py\" , to edit the code in sum.py\n",
    "Or we can simplye write notepad sum.py, this will open our code in notepad and then the code can be changed and modified from notepad too. We just don't have to forget about saving the code before executing it further."
   ]
  },
  {
   "cell_type": "code",
   "execution_count": null,
   "id": "4e0fac0f-6218-4898-8bc0-6fd7fbd9e083",
   "metadata": {},
   "outputs": [],
   "source": []
  },
  {
   "cell_type": "markdown",
   "id": "7e7706d4-8e66-4b50-a872-66cb11b120bf",
   "metadata": {},
   "source": [
    "## Q5. Given a list my_list = [1, 2, 3, 4, 5], write the code to slice the list and obtain the sub-list [2, 3]."
   ]
  },
  {
   "cell_type": "code",
   "execution_count": 21,
   "id": "02d01466-f10b-42c5-a28e-588f32d54c43",
   "metadata": {},
   "outputs": [],
   "source": [
    "my_list = [1,2,3,4,5]"
   ]
  },
  {
   "cell_type": "code",
   "execution_count": 22,
   "id": "f0763b9e-8dc3-4f80-a53d-9e01359c8c99",
   "metadata": {},
   "outputs": [],
   "source": [
    "sub_list = my_list[1:3]"
   ]
  },
  {
   "cell_type": "code",
   "execution_count": 23,
   "id": "f4fa9417-a5f3-4a07-9a12-8c34a3db92c7",
   "metadata": {},
   "outputs": [
    {
     "data": {
      "text/plain": [
       "[2, 3]"
      ]
     },
     "execution_count": 23,
     "metadata": {},
     "output_type": "execute_result"
    }
   ],
   "source": [
    "sub_list"
   ]
  },
  {
   "cell_type": "code",
   "execution_count": null,
   "id": "3962c280-26db-462d-85ef-1e074069c001",
   "metadata": {},
   "outputs": [],
   "source": []
  },
  {
   "cell_type": "markdown",
   "id": "3b56bc47-ee8c-424a-8b5b-8bd9a5f3d102",
   "metadata": {},
   "source": [
    "## Q6. What is a complex number in mathematics, and how is it represented in Python?"
   ]
  },
  {
   "cell_type": "raw",
   "id": "fb200565-a6cc-4b76-abe1-4323bc5e52fc",
   "metadata": {},
   "source": [
    "Complex Number in maths are the number which contains one real part and one imaginary part which can be writeen as : a+ib\n",
    "where a denoted the real part and ib denotes the imaginary part . Here, both a and b are real numbers and i (iota) value is sqrt(-1).\n",
    "\n",
    "\n",
    "In Python, complex numbers are denoted by a+bj , where a and b are real numbers, a denoted the real part and bj part denoted the imaginary part"
   ]
  },
  {
   "cell_type": "code",
   "execution_count": 24,
   "id": "6b9cb3fb-ecd9-445a-b410-2350cc3f3f43",
   "metadata": {},
   "outputs": [],
   "source": [
    "a= 2+3j"
   ]
  },
  {
   "cell_type": "code",
   "execution_count": 25,
   "id": "c2519108-1a51-44ea-a06d-9a54a5e8afc8",
   "metadata": {},
   "outputs": [
    {
     "data": {
      "text/plain": [
       "complex"
      ]
     },
     "execution_count": 25,
     "metadata": {},
     "output_type": "execute_result"
    }
   ],
   "source": [
    "type(a)"
   ]
  },
  {
   "cell_type": "code",
   "execution_count": 26,
   "id": "1fb28a27-3188-42d8-9f38-9cb6d4132537",
   "metadata": {},
   "outputs": [
    {
     "data": {
      "text/plain": [
       "2.0"
      ]
     },
     "execution_count": 26,
     "metadata": {},
     "output_type": "execute_result"
    }
   ],
   "source": [
    "a.real"
   ]
  },
  {
   "cell_type": "code",
   "execution_count": 27,
   "id": "6400bf92-1151-464e-9f3e-c76714873efd",
   "metadata": {},
   "outputs": [
    {
     "data": {
      "text/plain": [
       "3.0"
      ]
     },
     "execution_count": 27,
     "metadata": {},
     "output_type": "execute_result"
    }
   ],
   "source": [
    "a.imag"
   ]
  },
  {
   "cell_type": "code",
   "execution_count": null,
   "id": "0fbe6762-2741-422c-bc8d-9d90026e95c0",
   "metadata": {},
   "outputs": [],
   "source": []
  },
  {
   "cell_type": "markdown",
   "id": "97c9a2dd-763a-41d3-a705-7cd1380bce89",
   "metadata": {},
   "source": [
    "## Q7. What is the correct way to declare a variable named age and assign the value 25 to it?"
   ]
  },
  {
   "cell_type": "code",
   "execution_count": 28,
   "id": "26ab59e1-a922-4e7d-922b-b70dfaf48527",
   "metadata": {},
   "outputs": [],
   "source": [
    "age = 25 # here the name of the varibale is age and 25 is the value stored in age variable"
   ]
  },
  {
   "cell_type": "code",
   "execution_count": null,
   "id": "61409552-9ebd-4dc5-adf2-70d0aa17afba",
   "metadata": {},
   "outputs": [],
   "source": []
  },
  {
   "cell_type": "markdown",
   "id": "3b7ad249-b74b-49a6-b90c-8e0bcbe9f698",
   "metadata": {},
   "source": [
    "## Q8. Declare a variable named price and assign the value 9.99 to it. What data type does this variable belong to?"
   ]
  },
  {
   "cell_type": "code",
   "execution_count": 29,
   "id": "d9f59a6d-f70f-4f95-a8d6-c91aa551f145",
   "metadata": {},
   "outputs": [],
   "source": [
    "price = 9.99 # The name of the variable is price and 9.99 is the stored value in it. The datatype is Float."
   ]
  },
  {
   "cell_type": "code",
   "execution_count": 30,
   "id": "899dd2ef-6978-4983-8829-90da79a25d44",
   "metadata": {},
   "outputs": [
    {
     "data": {
      "text/plain": [
       "float"
      ]
     },
     "execution_count": 30,
     "metadata": {},
     "output_type": "execute_result"
    }
   ],
   "source": [
    "type(price)"
   ]
  },
  {
   "cell_type": "markdown",
   "id": "96cc4b43-9e34-479f-8828-b016840b44d9",
   "metadata": {},
   "source": [
    "## Q9. Create a variable named name and assign your full name to it as a string. How would you print the value of this variable?"
   ]
  },
  {
   "cell_type": "code",
   "execution_count": 31,
   "id": "6989ba39-fca9-414a-8706-f6eea59e2646",
   "metadata": {},
   "outputs": [
    {
     "name": "stdout",
     "output_type": "stream",
     "text": [
      "Md Faijan Raja\n"
     ]
    }
   ],
   "source": [
    "name = \"Md Faijan Raja\"\n",
    "print(name) # The value stored in a variable can be printed either by callimg the variable with its name or by using print function."
   ]
  },
  {
   "cell_type": "code",
   "execution_count": null,
   "id": "bdc5d2da-237b-48d5-8a96-12ae9697af41",
   "metadata": {},
   "outputs": [],
   "source": []
  },
  {
   "cell_type": "markdown",
   "id": "be709597-5d3f-40e4-87b3-87e9b1076844",
   "metadata": {},
   "source": [
    "## Q10. Given the string \"Hello, World!\", extract the substring \"World\"."
   ]
  },
  {
   "cell_type": "code",
   "execution_count": 32,
   "id": "38dbced0-43d0-46ae-aeb6-6fdb011e76d3",
   "metadata": {},
   "outputs": [],
   "source": [
    "str1 = \"Hello, World!\""
   ]
  },
  {
   "cell_type": "code",
   "execution_count": 33,
   "id": "3bc2c377-de28-4d99-9d0b-6bc7e5acfa35",
   "metadata": {},
   "outputs": [
    {
     "data": {
      "text/plain": [
       "'World'"
      ]
     },
     "execution_count": 33,
     "metadata": {},
     "output_type": "execute_result"
    }
   ],
   "source": [
    "str1[7:12]"
   ]
  },
  {
   "cell_type": "code",
   "execution_count": 34,
   "id": "2f12a6cd-ef5b-42bf-89d5-21c785090dc1",
   "metadata": {},
   "outputs": [
    {
     "data": {
      "text/plain": [
       "'World'"
      ]
     },
     "execution_count": 34,
     "metadata": {},
     "output_type": "execute_result"
    }
   ],
   "source": [
    "str1[-6:-1] # Using reverse indexing"
   ]
  },
  {
   "cell_type": "code",
   "execution_count": null,
   "id": "224d0fd5-b8f7-4c67-88c2-a469559756c0",
   "metadata": {},
   "outputs": [],
   "source": []
  },
  {
   "cell_type": "markdown",
   "id": "e18dc160-b51e-43db-80f8-e7972f365471",
   "metadata": {},
   "source": [
    "## Q11. Create a variable named \"is_student\" and assign it a boolean value indicating whether you are currently a student or not."
   ]
  },
  {
   "cell_type": "code",
   "execution_count": 35,
   "id": "23c66d77-d32e-4435-9caa-737c1c54b3bf",
   "metadata": {},
   "outputs": [],
   "source": [
    "is_student = False \n",
    "\n",
    "# here the varible name is \"is_student\". Since, I am a wroking professional, I have assigned Boolean value False to the variable"
   ]
  },
  {
   "cell_type": "code",
   "execution_count": null,
   "id": "d876eea4-4126-470f-b0e7-4b9c5c6416fe",
   "metadata": {},
   "outputs": [],
   "source": []
  },
  {
   "cell_type": "code",
   "execution_count": null,
   "id": "a44e673f-b4c6-4930-b972-6722dfd9aba1",
   "metadata": {},
   "outputs": [],
   "source": []
  }
 ],
 "metadata": {
  "kernelspec": {
   "display_name": "Python 3 (ipykernel)",
   "language": "python",
   "name": "python3"
  },
  "language_info": {
   "codemirror_mode": {
    "name": "ipython",
    "version": 3
   },
   "file_extension": ".py",
   "mimetype": "text/x-python",
   "name": "python",
   "nbconvert_exporter": "python",
   "pygments_lexer": "ipython3",
   "version": "3.10.8"
  }
 },
 "nbformat": 4,
 "nbformat_minor": 5
}
