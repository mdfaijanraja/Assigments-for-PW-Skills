{
 "cells": [
  {
   "cell_type": "markdown",
   "id": "a75bc0f2-ec7a-4ad4-a657-e7d18070cbdc",
   "metadata": {},
   "source": [
    "# Q1. Which keyword is used to create a function? Create a function to return a list of odd numbers in the range of 1 to 25."
   ]
  },
  {
   "cell_type": "code",
   "execution_count": 93,
   "id": "5baddc58-47f8-4840-904f-58470261669f",
   "metadata": {},
   "outputs": [],
   "source": [
    "# \"Def\" keyword is used to define a fucntion"
   ]
  },
  {
   "cell_type": "code",
   "execution_count": 94,
   "id": "bb7bd6cb-4408-4f13-b8f2-930683ceb48a",
   "metadata": {},
   "outputs": [],
   "source": [
    "# Create a function to return a list of odd numbers in the range of 1 to 25."
   ]
  },
  {
   "cell_type": "code",
   "execution_count": 95,
   "id": "cc9398f4-6fb3-484e-ba1e-b43ed5e89696",
   "metadata": {},
   "outputs": [],
   "source": [
    "def odd(n,m):\n",
    "    l=[]\n",
    "    for i in range(n,m):\n",
    "        if (i%2) != 0 :\n",
    "            l.append(i)\n",
    "    return l"
   ]
  },
  {
   "cell_type": "code",
   "execution_count": 96,
   "id": "94f0966f-fc19-41b8-870c-2d5d0804ddf7",
   "metadata": {},
   "outputs": [
    {
     "data": {
      "text/plain": [
       "[1, 3, 5, 7, 9, 11, 13, 15, 17, 19, 21, 23]"
      ]
     },
     "execution_count": 96,
     "metadata": {},
     "output_type": "execute_result"
    }
   ],
   "source": [
    "odd(1,25)"
   ]
  },
  {
   "cell_type": "code",
   "execution_count": null,
   "id": "08c5d991-539d-4010-957c-735fcf464f3e",
   "metadata": {},
   "outputs": [],
   "source": []
  },
  {
   "cell_type": "markdown",
   "id": "38d6dcb2-86b3-4399-847e-0d55c5ef9eb2",
   "metadata": {},
   "source": [
    "# Q2. Why *args and **kwargs is used in some functions? Create a function each for *args and **kwargs to demonstrate their use."
   ]
  },
  {
   "cell_type": "code",
   "execution_count": 97,
   "id": "22d9af20-c8c7-4b6e-8194-cfe28ea7b25a",
   "metadata": {},
   "outputs": [],
   "source": [
    "# *args is used to provide n(any) number of elements in the function and provide output in a set\n",
    "# **kwargs is used to provide n(any) number of key value pairs in a function and provide output in a dictionary"
   ]
  },
  {
   "cell_type": "code",
   "execution_count": 98,
   "id": "5c601851-216a-4c35-8013-c609766d440a",
   "metadata": {},
   "outputs": [],
   "source": [
    "def test1(*args):\n",
    "    return args"
   ]
  },
  {
   "cell_type": "code",
   "execution_count": 99,
   "id": "3abba15f-0ab9-4712-9651-c35f388f8e99",
   "metadata": {},
   "outputs": [
    {
     "data": {
      "text/plain": [
       "(1, 546, 23, 4, 342, 4, 234, 234, 234, 234, 342)"
      ]
     },
     "execution_count": 99,
     "metadata": {},
     "output_type": "execute_result"
    }
   ],
   "source": [
    "test1(1,546,23,4,342,4,234,234,234,234,342)"
   ]
  },
  {
   "cell_type": "code",
   "execution_count": 100,
   "id": "178a18d5-4250-41af-b18f-d3a1e9dcb8e7",
   "metadata": {},
   "outputs": [],
   "source": [
    "def test2(**kwargs):\n",
    "    return kwargs"
   ]
  },
  {
   "cell_type": "code",
   "execution_count": 101,
   "id": "095a240d-eb46-4d47-8783-d54099f452bd",
   "metadata": {},
   "outputs": [
    {
     "data": {
      "text/plain": [
       "{'a': 1, 'b': 2, 'c': 3, 'd': 4, 'e': 5, 'f': 6, 'g': 7, 'h': 7}"
      ]
     },
     "execution_count": 101,
     "metadata": {},
     "output_type": "execute_result"
    }
   ],
   "source": [
    "# We will get key value pairs in a dictionary as output\n",
    "test2(a=1,b=2,c=3,d=4,e=5,f=6,g=7,h=7)"
   ]
  },
  {
   "cell_type": "code",
   "execution_count": 102,
   "id": "390167b0-ccea-40b8-b8d5-8aabf989615a",
   "metadata": {},
   "outputs": [
    {
     "data": {
      "text/plain": [
       "{}"
      ]
     },
     "execution_count": 102,
     "metadata": {},
     "output_type": "execute_result"
    }
   ],
   "source": [
    "test2()"
   ]
  },
  {
   "cell_type": "code",
   "execution_count": null,
   "id": "aa32e2d3-ca8a-4a93-bc02-6a5cd007ecba",
   "metadata": {},
   "outputs": [],
   "source": []
  },
  {
   "cell_type": "markdown",
   "id": "46c911b5-68d9-4ada-bb55-0364df95dde1",
   "metadata": {},
   "source": [
    "# Q3. What is an iterator in python? Name the method used to initialise the iterator object and the method used for iteration. Use these methods to print the first five elements of the given list [2, 4, 6, 8, 10, 12, 14, 16, 18, 20]."
   ]
  },
  {
   "cell_type": "code",
   "execution_count": 103,
   "id": "68a2a0ef-8d9b-493d-a104-9dfb6690edb1",
   "metadata": {},
   "outputs": [],
   "source": [
    "# An iterator in python represent any ojbect whose elements can be iterated.\n",
    "# Iterator is used to iterate through iterable ojects.\n",
    "# Eg : Lists, Tuples, strinngs"
   ]
  },
  {
   "cell_type": "code",
   "execution_count": 104,
   "id": "2b07c4f8-eb0f-4ae3-9c15-7d3f310a1cca",
   "metadata": {},
   "outputs": [],
   "source": [
    "# iter() method is used to initialize iterator\n",
    "# next() method is used for iteration\n",
    "# We can also use loops to iterate through iterable ojects"
   ]
  },
  {
   "cell_type": "code",
   "execution_count": 105,
   "id": "16c9ce72-0cc4-4732-8ca4-91788dce69cb",
   "metadata": {},
   "outputs": [
    {
     "name": "stdout",
     "output_type": "stream",
     "text": [
      "2\n",
      "4\n",
      "6\n",
      "8\n",
      "10\n"
     ]
    }
   ],
   "source": [
    "l= [2, 4, 6, 8, 10, 12, 14, 16, 18, 20]\n",
    "x= iter(l)\n",
    "print(next(x))\n",
    "print(next(x))\n",
    "print(next(x))\n",
    "print(next(x))\n",
    "print(next(x))"
   ]
  },
  {
   "cell_type": "code",
   "execution_count": 106,
   "id": "d6b85e9d-b010-4691-b78c-7d19ee8a9e6c",
   "metadata": {},
   "outputs": [
    {
     "name": "stdout",
     "output_type": "stream",
     "text": [
      "2\n",
      "4\n",
      "6\n",
      "8\n",
      "10\n"
     ]
    }
   ],
   "source": [
    "# We can use for loop too for iterating the same numbers:\n",
    "ll= [2, 4, 6, 8, 10, 12, 14, 16, 18, 20]\n",
    "for i in range(0,5):\n",
    "    print(l[i])"
   ]
  },
  {
   "cell_type": "code",
   "execution_count": null,
   "id": "895169b8-f489-4592-9b85-f052fdd0930f",
   "metadata": {},
   "outputs": [],
   "source": []
  },
  {
   "cell_type": "markdown",
   "id": "4b4e3985-2113-4765-a6e9-d39ecce02796",
   "metadata": {},
   "source": [
    "# Q4. What is a generator function in python? Why yield keyword is used? Give an example of a generator function."
   ]
  },
  {
   "cell_type": "code",
   "execution_count": 107,
   "id": "4d281242-3ec7-41de-8bf4-22c81390704e",
   "metadata": {},
   "outputs": [],
   "source": [
    "# A generator fucntion is used to return an iterator that produces a sequence of values when iterated over.\n",
    "# Eg. range() is a generator function"
   ]
  },
  {
   "cell_type": "code",
   "execution_count": 108,
   "id": "2dc2592b-bab1-4e5b-abbf-142ddfcab7c6",
   "metadata": {},
   "outputs": [],
   "source": [
    "# For example : We can also create generator fucntion like a fibonacci series : \n",
    "# Fibonnaci series : 0,1,1,2,3,5,8,13,21,34,....\n",
    "\n",
    "def fib(n):\n",
    "    x,y = 0,1\n",
    "    for i in range(n):\n",
    "        yield x  # Yield keyword is used to return whatever the current value is stored in a variable (x)\n",
    "        x,y = y, x+y"
   ]
  },
  {
   "cell_type": "code",
   "execution_count": 109,
   "id": "55febc58-2fe1-4cea-88fc-4b98f3d064c1",
   "metadata": {},
   "outputs": [
    {
     "data": {
      "text/plain": [
       "<generator object fib at 0x7fe2b0324b30>"
      ]
     },
     "execution_count": 109,
     "metadata": {},
     "output_type": "execute_result"
    }
   ],
   "source": [
    "fib(10)"
   ]
  },
  {
   "cell_type": "code",
   "execution_count": 110,
   "id": "aac5d769-ec29-4b50-80eb-05baa896308f",
   "metadata": {},
   "outputs": [
    {
     "name": "stdout",
     "output_type": "stream",
     "text": [
      "0\n",
      "1\n",
      "1\n",
      "2\n",
      "3\n",
      "5\n",
      "8\n",
      "13\n",
      "21\n",
      "34\n"
     ]
    }
   ],
   "source": [
    "for i in fib(10):\n",
    "    print (i)"
   ]
  },
  {
   "cell_type": "code",
   "execution_count": null,
   "id": "ffd1f269-0d6d-4c28-853e-394bd024e02b",
   "metadata": {},
   "outputs": [],
   "source": []
  },
  {
   "cell_type": "markdown",
   "id": "ce2f837e-ba17-4a8c-991b-e3571edd53d2",
   "metadata": {},
   "source": [
    "# Q5. Create a generator function for prime numbers less than 1000. Use the next() method to print the first 20 prime numbers."
   ]
  },
  {
   "cell_type": "code",
   "execution_count": null,
   "id": "ff400fa4-2e5b-40c2-97f6-99802faf2743",
   "metadata": {},
   "outputs": [],
   "source": []
  },
  {
   "cell_type": "code",
   "execution_count": 112,
   "id": "c2332663-7334-491b-bfb1-334e1c78fe9a",
   "metadata": {},
   "outputs": [
    {
     "name": "stdin",
     "output_type": "stream",
     "text": [
      "Enter a number to check prime:  13\n"
     ]
    },
    {
     "name": "stdout",
     "output_type": "stream",
     "text": [
      "number of factors are:  2\n",
      "13 is a Prime Number\n"
     ]
    }
   ],
   "source": [
    "# Lets first try to wite a program for checking a prime number:\n",
    "\n",
    "n = int(input(\"Enter a number to check prime: \"))\n",
    "count = 0\n",
    "for i in range(1,n+1):\n",
    "        if n%i==0:\n",
    "            count+=1\n",
    "        else:\n",
    "            continue\n",
    "            \n",
    "print(\"number of factors are: \", count)\n",
    "if count == 2:\n",
    "    print(f\"{n} is a Prime Number\")\n",
    "else:\n",
    "    print(f\"{n} is Not a Prime Number\")"
   ]
  },
  {
   "cell_type": "code",
   "execution_count": 113,
   "id": "ad67126f-fede-4893-8235-aa720ecad99d",
   "metadata": {},
   "outputs": [
    {
     "name": "stdout",
     "output_type": "stream",
     "text": [
      "2\n",
      "3\n",
      "5\n",
      "7\n",
      "11\n",
      "13\n",
      "17\n",
      "19\n",
      "23\n",
      "29\n",
      "31\n",
      "37\n",
      "41\n",
      "43\n",
      "47\n",
      "53\n",
      "59\n",
      "61\n",
      "67\n",
      "71\n"
     ]
    }
   ],
   "source": [
    "# Now Final step -->  Creating Generator Function:\n",
    "\n",
    "def prime(m):\n",
    "    for i in range(1,m+1):  # We can check the for m also, whether m is a prime number or not, so m+1\n",
    "        n=i\n",
    "        count=0\n",
    "        for j in range(1,n+1):\n",
    "            if n%j == 0:\n",
    "                count+=1\n",
    "            else:\n",
    "                continue\n",
    "        if count == 2:\n",
    "            yield n\n",
    "            \n",
    "# Create the generator object\n",
    "prime_gen = prime(1000)\n",
    "\n",
    "# Iterating first 20 prime numbers:\n",
    "for x in range(20):\n",
    "    primes = next(prime_gen)\n",
    "    print(primes)"
   ]
  },
  {
   "cell_type": "code",
   "execution_count": 114,
   "id": "4246c8f5-6e55-4cd3-8a29-25b68155d6cb",
   "metadata": {},
   "outputs": [
    {
     "name": "stdout",
     "output_type": "stream",
     "text": [
      "2\n",
      "3\n",
      "5\n",
      "7\n",
      "11\n",
      "13\n",
      "17\n",
      "19\n",
      "23\n",
      "29\n",
      "31\n",
      "37\n",
      "41\n",
      "43\n",
      "47\n",
      "53\n",
      "59\n",
      "61\n",
      "67\n",
      "71\n",
      "73\n",
      "79\n",
      "83\n",
      "89\n",
      "97\n",
      "101\n",
      "103\n",
      "107\n",
      "109\n",
      "113\n",
      "127\n",
      "131\n",
      "137\n",
      "139\n",
      "149\n",
      "151\n",
      "157\n",
      "163\n",
      "167\n",
      "173\n",
      "179\n",
      "181\n",
      "191\n",
      "193\n",
      "197\n",
      "199\n",
      "211\n",
      "223\n",
      "227\n",
      "229\n",
      "233\n",
      "239\n",
      "241\n",
      "251\n",
      "257\n",
      "263\n",
      "269\n",
      "271\n",
      "277\n",
      "281\n",
      "283\n",
      "293\n",
      "307\n",
      "311\n",
      "313\n",
      "317\n",
      "331\n",
      "337\n",
      "347\n",
      "349\n",
      "353\n",
      "359\n",
      "367\n",
      "373\n",
      "379\n",
      "383\n",
      "389\n",
      "397\n",
      "401\n",
      "409\n",
      "419\n",
      "421\n",
      "431\n",
      "433\n",
      "439\n",
      "443\n",
      "449\n",
      "457\n",
      "461\n",
      "463\n",
      "467\n",
      "479\n",
      "487\n",
      "491\n",
      "499\n",
      "503\n",
      "509\n",
      "521\n",
      "523\n",
      "541\n",
      "547\n",
      "557\n",
      "563\n",
      "569\n",
      "571\n",
      "577\n",
      "587\n",
      "593\n",
      "599\n",
      "601\n",
      "607\n",
      "613\n",
      "617\n",
      "619\n",
      "631\n",
      "641\n",
      "643\n",
      "647\n",
      "653\n",
      "659\n",
      "661\n",
      "673\n",
      "677\n",
      "683\n",
      "691\n",
      "701\n",
      "709\n",
      "719\n",
      "727\n",
      "733\n",
      "739\n",
      "743\n",
      "751\n",
      "757\n",
      "761\n",
      "769\n",
      "773\n",
      "787\n",
      "797\n",
      "809\n",
      "811\n",
      "821\n",
      "823\n",
      "827\n",
      "829\n",
      "839\n",
      "853\n",
      "857\n",
      "859\n",
      "863\n",
      "877\n",
      "881\n",
      "883\n",
      "887\n",
      "907\n",
      "911\n",
      "919\n",
      "929\n",
      "937\n",
      "941\n",
      "947\n",
      "953\n",
      "967\n",
      "971\n",
      "977\n",
      "983\n",
      "991\n",
      "997\n"
     ]
    }
   ],
   "source": [
    "# Printing all the prime number less than 1000:\n",
    "for i in prime(1000):\n",
    "    print(i)"
   ]
  },
  {
   "cell_type": "code",
   "execution_count": 90,
   "id": "92e16cfd-ebd5-462b-a4be-ce39a5c79ea2",
   "metadata": {},
   "outputs": [
    {
     "data": {
      "text/plain": [
       "'\\ndef prime_generator():\\n    primes = []\\n    num = 2\\n    while True:\\n        is_prime = True\\n        for prime in primes:\\n            if num % prime == 0:\\n                is_prime = False\\n                break\\n        if is_prime:\\n            primes.append(num)\\n            yield num\\n        num += 1\\n\\n# Create the generator object\\nprime_gen = prime_generator()\\n\\n# Print the first 20 prime numbers\\nfor _ in range(20):\\n    prime_num = next(prime_gen)\\n    print(prime_num)\\n'"
      ]
     },
     "execution_count": 90,
     "metadata": {},
     "output_type": "execute_result"
    }
   ],
   "source": [
    "'''\n",
    "def prime_generator():\n",
    "    primes = []\n",
    "    num = 2\n",
    "    while True:\n",
    "        is_prime = True\n",
    "        for prime in primes:\n",
    "            if num % prime == 0:\n",
    "                is_prime = False\n",
    "                break\n",
    "        if is_prime:\n",
    "            primes.append(num)\n",
    "            yield num\n",
    "        num += 1\n",
    "\n",
    "# Create the generator object\n",
    "prime_gen = prime_generator()\n",
    "\n",
    "# Print the first 20 prime numbers\n",
    "for _ in range(20):\n",
    "    prime_num = next(prime_gen)\n",
    "    print(prime_num)\n",
    "'''"
   ]
  },
  {
   "cell_type": "code",
   "execution_count": null,
   "id": "b9fe22ca-0c96-41dc-b0d3-8f0ddc5f1d3b",
   "metadata": {},
   "outputs": [],
   "source": []
  }
 ],
 "metadata": {
  "kernelspec": {
   "display_name": "Python 3 (ipykernel)",
   "language": "python",
   "name": "python3"
  },
  "language_info": {
   "codemirror_mode": {
    "name": "ipython",
    "version": 3
   },
   "file_extension": ".py",
   "mimetype": "text/x-python",
   "name": "python",
   "nbconvert_exporter": "python",
   "pygments_lexer": "ipython3",
   "version": "3.10.8"
  }
 },
 "nbformat": 4,
 "nbformat_minor": 5
}
