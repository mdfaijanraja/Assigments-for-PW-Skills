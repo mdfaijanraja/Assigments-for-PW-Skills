{
 "cells": [
  {
   "cell_type": "markdown",
   "id": "b5e7a997-1673-4dbd-934e-afedf300f847",
   "metadata": {},
   "source": [
    "# OOPs Assignment (1)"
   ]
  },
  {
   "cell_type": "markdown",
   "id": "04aae9d1-48e5-4fd7-a7c9-46fc16513d48",
   "metadata": {
    "tags": []
   },
   "source": [
    "## Q1. Explain Class and Object with respect to Object-Oriented Programming. Give a suitable example."
   ]
  },
  {
   "cell_type": "markdown",
   "id": "585f68c1-64c5-4939-aabb-6d854f7c1aca",
   "metadata": {},
   "source": [
    "A user designed type which acts as a blueprint and describes what a certain type of object should look like.\n",
    "\n",
    "A class basicvally consists of two parts : Class Declaration and Class defination\n",
    "\n",
    "An object can be defined as a instance of a class. We can call the class through the object/\n"
   ]
  },
  {
   "cell_type": "code",
   "execution_count": 48,
   "id": "437d72e5-17b4-47fa-9117-9e7c0b0052da",
   "metadata": {},
   "outputs": [],
   "source": [
    "# Lets take an example and create a class with name test:"
   ]
  },
  {
   "cell_type": "code",
   "execution_count": 49,
   "id": "8cc2ffdc-a7e2-4ff9-9072-64d4219a8916",
   "metadata": {},
   "outputs": [],
   "source": [
    "class test:  # Here, we are declaring the class named test \n",
    "    \n",
    "    def __init__(self, name, id, profession ): # Here,we are defining hwhat variables our class will take and store\n",
    "        self.name = name\n",
    "        self.id = id\n",
    "        self.profession = profession\n",
    "        \n",
    "    def get_name(self):  # Creating method\n",
    "        return self.name\n",
    "    \n",
    "    def get_id(self):  # Creating method\n",
    "        return self.id\n",
    "    \n",
    "    def get_profession(self):  # Creating method\n",
    "        return self.profession"
   ]
  },
  {
   "cell_type": "code",
   "execution_count": 50,
   "id": "dd7bd18b-b049-403b-8424-d1b0cfe0fdec",
   "metadata": {},
   "outputs": [],
   "source": [
    "ojb = test('Faijan', 1, 'Data Scientist') # Creating object name ojb to call our test class "
   ]
  },
  {
   "cell_type": "code",
   "execution_count": null,
   "id": "f5ba3120-afbb-4458-8820-1ea7044798de",
   "metadata": {},
   "outputs": [],
   "source": []
  },
  {
   "cell_type": "markdown",
   "id": "d3dad843-6c31-4d1e-99ff-f79a3fc9328a",
   "metadata": {},
   "source": [
    "## Q2. Name the four pillars of OOPs."
   ]
  },
  {
   "cell_type": "markdown",
   "id": "aeef6080-8eb2-473e-8638-c7fc1d600763",
   "metadata": {},
   "source": [
    "The Four Pillars are :\n",
    "    \n",
    "1. Encapsulation\n",
    "2. Abstraction\n",
    "3. Inheritance\n",
    "4. Polymorphism"
   ]
  },
  {
   "cell_type": "code",
   "execution_count": null,
   "id": "cf1e7fa7-d35e-496a-89c4-8537bbf1d3cd",
   "metadata": {},
   "outputs": [],
   "source": []
  },
  {
   "cell_type": "markdown",
   "id": "14abacd5-998b-4964-a8c7-0f7d82ce49c5",
   "metadata": {},
   "source": [
    "## Q3. Explain why the __init__() function is used. Give a suitable example."
   ]
  },
  {
   "cell_type": "markdown",
   "id": "1ffed8d9-01f9-4058-a4ac-b4059012b113",
   "metadata": {},
   "source": [
    "__init__ is a magic method that runs whenever a new object is created even if we don't call for the method particularly. These types of functions are used to initialize the attributes of that class."
   ]
  },
  {
   "cell_type": "code",
   "execution_count": 51,
   "id": "65ddd4aa-cbe4-448d-a41e-84fb2a20cd3b",
   "metadata": {},
   "outputs": [],
   "source": [
    "# Lets take an example:\n",
    "\n",
    "class test1():\n",
    "    \n",
    "    def __init__(self):\n",
    "        print(\" Hi, This is getting printed because whenever we call any object, the __init__ method runs automatically\" )"
   ]
  },
  {
   "cell_type": "code",
   "execution_count": 52,
   "id": "3bd35bf0-17de-4fd4-9c91-af2f9ddc76be",
   "metadata": {},
   "outputs": [
    {
     "name": "stdout",
     "output_type": "stream",
     "text": [
      " Hi, This is getting printed because whenever we call any object, the __init__ method runs automatically\n"
     ]
    }
   ],
   "source": [
    "obj1 = test1()"
   ]
  },
  {
   "cell_type": "code",
   "execution_count": 53,
   "id": "64f94925-1a58-4ad3-ab38-d6f63a7b5942",
   "metadata": {},
   "outputs": [],
   "source": [
    "# We can clearly see that anything written inside init mogic method will runs automatically"
   ]
  },
  {
   "cell_type": "code",
   "execution_count": null,
   "id": "9afdec79-876e-4f8e-afaf-8c6c974fb2fc",
   "metadata": {},
   "outputs": [],
   "source": []
  },
  {
   "cell_type": "markdown",
   "id": "766874d8-f117-4eb6-9e86-1f3af2cf308a",
   "metadata": {},
   "source": [
    "## Q4. Why self is used in OOPs?"
   ]
  },
  {
   "cell_type": "markdown",
   "id": "d614e4a1-8cef-4cf0-b9cf-2c34b0e81f98",
   "metadata": {},
   "source": [
    "Self is used to represent the instance of the class which is often used in object-oriented programming.\n",
    "\n",
    "It works as a reference to the object. For making reference, it is necessary to put self inside (self) in the method\n",
    "\n",
    "Python uses the self parameter to refer to instance attributes and methods of the class"
   ]
  },
  {
   "cell_type": "code",
   "execution_count": null,
   "id": "de7a5aad-4b87-457d-bd58-c1136c476474",
   "metadata": {},
   "outputs": [],
   "source": []
  },
  {
   "cell_type": "markdown",
   "id": "b20941d1-3cf1-4d6e-aa57-55be6e82ab5c",
   "metadata": {},
   "source": [
    "## Q5. What is inheritance? Give an example for each type of inheritance."
   ]
  },
  {
   "cell_type": "markdown",
   "id": "31149aa9-2b1e-4b6a-8ae0-09a41a5223ce",
   "metadata": {},
   "source": [
    "The process in which one class acquires the property of another class when declared inside it.\n",
    "\n",
    "The outer class is known as Parent class and the inner class is called Child class."
   ]
  },
  {
   "cell_type": "markdown",
   "id": "60701efa-4b10-435e-b7d7-113a4b41bbb1",
   "metadata": {},
   "source": [
    "There are basically 5 types of Inheritance:\n",
    "\n",
    "1. Single Inheritance: \n",
    "Single inheritance enables a derived class to inherit properties from a single parent class, thus enabling code reusability and the addition of new features to existing code.\n",
    "\n",
    "2. Multiple Inheritance: \n",
    "When a class can be derived from more than one base class this type of inheritance is called multiple inheritances. In multiple inheritances, all the features of the base classes are inherited into the derived class. \n",
    "\n",
    "3. Multilevel Inheritance :\n",
    "In multilevel inheritance, features of the base class and the derived class are further inherited into the new derived class. This is similar to a relationship representing a child and a grandfather. \n",
    "\n",
    "4. Hierarchical Inheritance: \n",
    "When more than one derived class are created from a single base this type of inheritance is called hierarchical inheritance. In this program, we have a parent (base) class and two child (derived) classes.\n",
    "\n",
    "5. Hybrid Inheritance: \n",
    "Inheritance consisting of multiple types of inheritance is called hybrid inheritance"
   ]
  },
  {
   "cell_type": "code",
   "execution_count": 54,
   "id": "3ed39515-9366-4ab2-9b5f-050b577f0071",
   "metadata": {},
   "outputs": [],
   "source": [
    "# Example of the different types of inheritance are given below:"
   ]
  },
  {
   "cell_type": "markdown",
   "id": "3c1d8557-7cdb-4982-badd-5c88639f6581",
   "metadata": {},
   "source": [
    "### 1. Single Inheritance:"
   ]
  },
  {
   "cell_type": "code",
   "execution_count": 55,
   "id": "c2046789-97d0-4157-9422-dbf73114d816",
   "metadata": {},
   "outputs": [],
   "source": [
    "# Base Parent class\n",
    "\n",
    "class parent_cls:\n",
    "    \n",
    "    def p_method(self):\n",
    "        print(\"This is method inside parent class\")\n",
    "        \n",
    "# Child class\n",
    "\n",
    "class child_cls(parent_cls):\n",
    "    def c_method(self):\n",
    "        print(\"This is method inside child class\")"
   ]
  },
  {
   "cell_type": "code",
   "execution_count": 56,
   "id": "42ea9157-c7e0-41e5-8d6c-23c67254a27b",
   "metadata": {},
   "outputs": [],
   "source": [
    "obj = child_cls()"
   ]
  },
  {
   "cell_type": "code",
   "execution_count": 57,
   "id": "f763bd56-6599-4d13-98eb-a6729a4edf7d",
   "metadata": {},
   "outputs": [
    {
     "name": "stdout",
     "output_type": "stream",
     "text": [
      "This is method inside child class\n"
     ]
    }
   ],
   "source": [
    "obj.c_method()"
   ]
  },
  {
   "cell_type": "code",
   "execution_count": 58,
   "id": "9a970233-7512-4b3a-af2a-302a356b0d8b",
   "metadata": {},
   "outputs": [
    {
     "name": "stdout",
     "output_type": "stream",
     "text": [
      "This is method inside parent class\n"
     ]
    }
   ],
   "source": [
    "obj.p_method()"
   ]
  },
  {
   "cell_type": "code",
   "execution_count": 59,
   "id": "1f86a1ae-34a5-4a30-89ce-4307bd62168b",
   "metadata": {},
   "outputs": [],
   "source": [
    "# Here, we can see obj object is created for child class but still inherits methods of parent class.\n",
    "# This is an example of Single Inheritance."
   ]
  },
  {
   "cell_type": "code",
   "execution_count": null,
   "id": "fced28ac-10b3-476e-a096-1f1fc51accf9",
   "metadata": {},
   "outputs": [],
   "source": []
  },
  {
   "cell_type": "markdown",
   "id": "1f1ca6df-205f-44df-afb8-fe3bf204a2f5",
   "metadata": {},
   "source": [
    "### 2. Multiple Inheritance:"
   ]
  },
  {
   "cell_type": "code",
   "execution_count": 60,
   "id": "8bd16074-4a68-472b-a79e-fbab0b89b84e",
   "metadata": {},
   "outputs": [],
   "source": [
    "# Base class:\n",
    "\n",
    "class Father:\n",
    "    father_name = \"\"\n",
    "    \n",
    "    def fname(self):\n",
    "        print(self.father_name)\n",
    "        \n",
    "# Another base class:\n",
    "\n",
    "class Mother:\n",
    "    mother_name = \"\"\n",
    "    \n",
    "    def mname(self):\n",
    "        print(self.mother_name)\n",
    "        \n",
    "# Child class:\n",
    "class Child (Father, Mother):\n",
    "        def parent(self):\n",
    "            print(\"Father is : \",self.father_name)\n",
    "            print(\"Mother is : \",self.mother_name)\n",
    "        "
   ]
  },
  {
   "cell_type": "code",
   "execution_count": 61,
   "id": "225c5c69-7aa0-4bb0-b1e1-ef3409ddaee0",
   "metadata": {},
   "outputs": [],
   "source": [
    "child1 = Child()"
   ]
  },
  {
   "cell_type": "code",
   "execution_count": 62,
   "id": "490f64a6-407a-4f40-aa6a-12887be4c340",
   "metadata": {},
   "outputs": [],
   "source": [
    "child1.father_name = \"ABC\""
   ]
  },
  {
   "cell_type": "code",
   "execution_count": 63,
   "id": "1a7ec479-85dc-4228-b327-98ba2d6cb712",
   "metadata": {},
   "outputs": [],
   "source": [
    "child1.mother_name = \"XYZ\""
   ]
  },
  {
   "cell_type": "code",
   "execution_count": 64,
   "id": "44003d50-1dfd-4f94-8242-1302da60eeaa",
   "metadata": {},
   "outputs": [
    {
     "name": "stdout",
     "output_type": "stream",
     "text": [
      "Father is :  ABC\n",
      "Mother is :  XYZ\n"
     ]
    }
   ],
   "source": [
    "child1.parent()"
   ]
  },
  {
   "cell_type": "code",
   "execution_count": 65,
   "id": "bfa9ce7c-491c-4d8b-a139-da90835d13ac",
   "metadata": {},
   "outputs": [],
   "source": [
    "# Here, child1 object is used to call child class, but can access both the methods of father and mother class\n",
    "# This is an example of mutiple inheritance"
   ]
  },
  {
   "cell_type": "code",
   "execution_count": null,
   "id": "075447eb-4ec5-4c29-a733-99c06497f8f8",
   "metadata": {},
   "outputs": [],
   "source": []
  },
  {
   "cell_type": "markdown",
   "id": "56258410-6f03-4e69-9d41-39da63c8272b",
   "metadata": {},
   "source": [
    "### 3. Mutlilevel Inheritance:"
   ]
  },
  {
   "cell_type": "code",
   "execution_count": 66,
   "id": "25450313-f23f-414f-a9a2-3eca9511d97e",
   "metadata": {},
   "outputs": [],
   "source": [
    "class g_father:\n",
    "    \n",
    "    def gfname(self):\n",
    "        print(\"This is method inside grand father class\")\n",
    "        \n",
    "class father(g_father):\n",
    "    \n",
    "    def fname(self):\n",
    "        print(\"This is method inside father class\")\n",
    "        \n",
    "class child(father):\n",
    "    \n",
    "    def cname(self):\n",
    "        print(\"This is method inside child class\")"
   ]
  },
  {
   "cell_type": "code",
   "execution_count": 67,
   "id": "4a05535d-ff80-4d20-b3d7-f0bb41b7009b",
   "metadata": {},
   "outputs": [],
   "source": [
    "child1 = child()"
   ]
  },
  {
   "cell_type": "code",
   "execution_count": 68,
   "id": "ed2db8b7-d74e-4136-9b91-5352308c1446",
   "metadata": {},
   "outputs": [
    {
     "name": "stdout",
     "output_type": "stream",
     "text": [
      "This is method inside child class\n"
     ]
    }
   ],
   "source": [
    "child1.cname()"
   ]
  },
  {
   "cell_type": "code",
   "execution_count": 69,
   "id": "1162dc94-05ea-4b7a-a0a5-36512f816f8e",
   "metadata": {},
   "outputs": [
    {
     "name": "stdout",
     "output_type": "stream",
     "text": [
      "This is method inside father class\n"
     ]
    }
   ],
   "source": [
    "child1.fname()"
   ]
  },
  {
   "cell_type": "code",
   "execution_count": 70,
   "id": "64768b29-a24e-4251-8ab7-d9caad794a46",
   "metadata": {},
   "outputs": [
    {
     "name": "stdout",
     "output_type": "stream",
     "text": [
      "This is method inside grand father class\n"
     ]
    }
   ],
   "source": [
    "child1.gfname()"
   ]
  },
  {
   "cell_type": "code",
   "execution_count": 71,
   "id": "0f84737e-c20e-4fbf-96c9-b8adcd82a9f0",
   "metadata": {},
   "outputs": [],
   "source": [
    "# Here, child class inherits the method of father and \n",
    "# father class inherits the method of grand father class\n",
    "# with child1 object for child class, we are able to access both methods from father and grand father\n",
    "# This is an example of multilevel inheritance"
   ]
  },
  {
   "cell_type": "code",
   "execution_count": null,
   "id": "3526dc43-e786-4579-8877-7d00b0ef918a",
   "metadata": {},
   "outputs": [],
   "source": []
  },
  {
   "cell_type": "markdown",
   "id": "43e939fc-fdbf-495f-84a8-add1972cc9e5",
   "metadata": {},
   "source": [
    "### 4. Hierarchical Inheritance:"
   ]
  },
  {
   "cell_type": "code",
   "execution_count": 72,
   "id": "01f443c1-e4cd-4775-90c5-b9d992f6f490",
   "metadata": {},
   "outputs": [],
   "source": [
    "class father:\n",
    "    \n",
    "    def f_method(self):\n",
    "        print(\"This is method inside parent class\")\n",
    "        \n",
    "class child1(father):\n",
    "    \n",
    "    def c1_method(self):\n",
    "        print(\"This is method inside child 1 class which inherits father class\")\n",
    "        \n",
    "class child2(father):\n",
    "    \n",
    "    def c2_method(self):\n",
    "        print(\"This is method inside child 2 class which inherits father class \")"
   ]
  },
  {
   "cell_type": "code",
   "execution_count": 73,
   "id": "8e125c5a-6b42-449f-8d85-10719ae8225e",
   "metadata": {},
   "outputs": [],
   "source": [
    "c1 = child1() \n",
    "c2 = child2()"
   ]
  },
  {
   "cell_type": "code",
   "execution_count": 74,
   "id": "2e258b36-04b4-4ae0-9a50-84a8bd7016e2",
   "metadata": {},
   "outputs": [
    {
     "name": "stdout",
     "output_type": "stream",
     "text": [
      "This is method inside child 1 class which inherits father class\n"
     ]
    }
   ],
   "source": [
    "c1.c1_method()"
   ]
  },
  {
   "cell_type": "code",
   "execution_count": 75,
   "id": "38edf4d4-1252-4125-a3c8-0df84fd2aeb7",
   "metadata": {},
   "outputs": [
    {
     "name": "stdout",
     "output_type": "stream",
     "text": [
      "This is method inside parent class\n"
     ]
    }
   ],
   "source": [
    "c1.f_method()"
   ]
  },
  {
   "cell_type": "code",
   "execution_count": 76,
   "id": "19114b7f-1100-44e6-be18-87087d9e9931",
   "metadata": {},
   "outputs": [
    {
     "name": "stdout",
     "output_type": "stream",
     "text": [
      "This is method inside child 2 class which inherits father class \n"
     ]
    }
   ],
   "source": [
    "c2.c2_method()"
   ]
  },
  {
   "cell_type": "code",
   "execution_count": 77,
   "id": "2d113fa3-6bae-4065-910a-4bbe2e062199",
   "metadata": {},
   "outputs": [
    {
     "name": "stdout",
     "output_type": "stream",
     "text": [
      "This is method inside parent class\n"
     ]
    }
   ],
   "source": [
    "c2.f_method()"
   ]
  },
  {
   "cell_type": "code",
   "execution_count": 78,
   "id": "aa35cb5c-6aa7-4f3e-9b78-1ca259f730b3",
   "metadata": {},
   "outputs": [],
   "source": [
    "# Here, two derived child class inherits from the father/parent class\n",
    "# This is an example of Heirarchical Inheritance"
   ]
  },
  {
   "cell_type": "code",
   "execution_count": null,
   "id": "36d1eae2-9e78-44f0-b5cd-47a840332e34",
   "metadata": {},
   "outputs": [],
   "source": []
  },
  {
   "cell_type": "markdown",
   "id": "534d9fa8-d16f-47fd-90a1-54460e2f7738",
   "metadata": {},
   "source": [
    "### 5. Hybrid Inheritance:"
   ]
  },
  {
   "cell_type": "code",
   "execution_count": 79,
   "id": "e4890863-2c1d-4099-a7fb-ca53284a7f9a",
   "metadata": {},
   "outputs": [],
   "source": [
    "class course:\n",
    "    \n",
    "    def p_method(self):\n",
    "        print(\"This is method inside parent class\")\n",
    "        \n",
    "class stu1(course):\n",
    "    \n",
    "    def s1_method(self):\n",
    "        print(\"This is method inside student1 child class which inherit from course parent class\")\n",
    "        \n",
    "class stu2(stu1, course):\n",
    "    \n",
    "    def s2_method(self):\n",
    "        print(\"This is method inside student2 child class which inherit from both course parent class and student1 parent class\")"
   ]
  },
  {
   "cell_type": "code",
   "execution_count": 80,
   "id": "301cf0b0-2e56-45f0-baa0-3c46c32cc42f",
   "metadata": {},
   "outputs": [],
   "source": [
    "stu = stu2()"
   ]
  },
  {
   "cell_type": "code",
   "execution_count": 81,
   "id": "ebba2689-de9e-4bda-9047-f31df3587a32",
   "metadata": {},
   "outputs": [
    {
     "name": "stdout",
     "output_type": "stream",
     "text": [
      "This is method inside student2 child class which inherit from both course parent class and student1 parent class\n"
     ]
    }
   ],
   "source": [
    "stu.s2_method()"
   ]
  },
  {
   "cell_type": "code",
   "execution_count": 82,
   "id": "eda9f06f-d962-4e4d-be79-9f6069f64a83",
   "metadata": {},
   "outputs": [
    {
     "name": "stdout",
     "output_type": "stream",
     "text": [
      "This is method inside student1 child class which inherit from course parent class\n"
     ]
    }
   ],
   "source": [
    "stu.s1_method()"
   ]
  },
  {
   "cell_type": "code",
   "execution_count": 83,
   "id": "1845e458-a7c0-4431-a4c7-4a786244a884",
   "metadata": {},
   "outputs": [
    {
     "name": "stdout",
     "output_type": "stream",
     "text": [
      "This is method inside parent class\n"
     ]
    }
   ],
   "source": [
    "stu.p_method()"
   ]
  },
  {
   "cell_type": "code",
   "execution_count": 84,
   "id": "9eb2752a-aee3-4d3d-8709-8411cf4628c1",
   "metadata": {},
   "outputs": [],
   "source": [
    "# Here, this is consisting of multiple types of inheritance \n",
    "# Therfore, its an example of Hybrid inheritance"
   ]
  },
  {
   "cell_type": "code",
   "execution_count": null,
   "id": "92d9bd58-683f-46a4-8936-2b14d96c3632",
   "metadata": {},
   "outputs": [],
   "source": []
  }
 ],
 "metadata": {
  "kernelspec": {
   "display_name": "Python 3 (ipykernel)",
   "language": "python",
   "name": "python3"
  },
  "language_info": {
   "codemirror_mode": {
    "name": "ipython",
    "version": 3
   },
   "file_extension": ".py",
   "mimetype": "text/x-python",
   "name": "python",
   "nbconvert_exporter": "python",
   "pygments_lexer": "ipython3",
   "version": "3.10.8"
  }
 },
 "nbformat": 4,
 "nbformat_minor": 5
}
