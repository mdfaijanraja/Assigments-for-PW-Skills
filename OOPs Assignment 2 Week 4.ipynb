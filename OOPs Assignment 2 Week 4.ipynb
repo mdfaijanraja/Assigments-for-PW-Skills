{
 "cells": [
  {
   "cell_type": "markdown",
   "id": "e63c6fc8-4504-41f5-b73f-491f5a047f27",
   "metadata": {},
   "source": [
    "# OOPs Assignment 2:"
   ]
  },
  {
   "cell_type": "markdown",
   "id": "1176a1ce-eae4-4d2c-9a1d-008f23692a21",
   "metadata": {},
   "source": [
    "## Q1. Create a vehicle class with an init method having instance variables as name_of_vehicle, max_speed and average_of_vehicle."
   ]
  },
  {
   "cell_type": "code",
   "execution_count": 45,
   "id": "d13b2a83-2a37-49f9-8c7a-aa84338dc58b",
   "metadata": {},
   "outputs": [],
   "source": [
    "class vehicle:\n",
    "    \n",
    "    def __init__(self, name_of_vehicle, max_speed, average_of_vehicle):\n",
    "        self.name_of_vehicle = name_of_vehicle\n",
    "        self.max_speed = max_speed\n",
    "        self.average_of_vehicle = average_of_vehicle"
   ]
  },
  {
   "cell_type": "code",
   "execution_count": 46,
   "id": "b13614ad-69e4-4c51-979b-2ebdc53d4745",
   "metadata": {},
   "outputs": [],
   "source": [
    "car = vehicle(\"Honda City\", 130, 16)"
   ]
  },
  {
   "cell_type": "code",
   "execution_count": 47,
   "id": "4080e9b5-bdc9-4f69-905b-3c89ed3fa022",
   "metadata": {},
   "outputs": [
    {
     "data": {
      "text/plain": [
       "16"
      ]
     },
     "execution_count": 47,
     "metadata": {},
     "output_type": "execute_result"
    }
   ],
   "source": [
    "car.average_of_vehicle"
   ]
  },
  {
   "cell_type": "code",
   "execution_count": 48,
   "id": "d05163d9-fa7d-468e-921a-7ecdb0f5ac65",
   "metadata": {},
   "outputs": [
    {
     "data": {
      "text/plain": [
       "130"
      ]
     },
     "execution_count": 48,
     "metadata": {},
     "output_type": "execute_result"
    }
   ],
   "source": [
    "car.max_speed"
   ]
  },
  {
   "cell_type": "code",
   "execution_count": 49,
   "id": "222888a3-6fa3-4c80-bf42-b7c60c4f2e4a",
   "metadata": {},
   "outputs": [
    {
     "data": {
      "text/plain": [
       "'Honda City'"
      ]
     },
     "execution_count": 49,
     "metadata": {},
     "output_type": "execute_result"
    }
   ],
   "source": [
    "car.name_of_vehicle"
   ]
  },
  {
   "cell_type": "code",
   "execution_count": null,
   "id": "101e64f2-f97d-447f-b7db-401faf94599a",
   "metadata": {},
   "outputs": [],
   "source": []
  },
  {
   "cell_type": "markdown",
   "id": "b8f21921-b711-4146-95ef-b6dc12f38db0",
   "metadata": {},
   "source": [
    "## Q2. Create a child class car from the vehicle class created in Que 1, which will inherit the vehicle class. Create a method named seating_capacity which takes capacity as an argument and returns the name of the vehicle and its seating capacity."
   ]
  },
  {
   "cell_type": "code",
   "execution_count": 50,
   "id": "2d060d1c-6a65-4d90-a896-250cb2429566",
   "metadata": {},
   "outputs": [],
   "source": [
    "class vehicle:\n",
    "    def __init__(self, name_of_vehicle, max_speed, average_of_vehicle):\n",
    "        self.name_of_vehicle = name_of_vehicle\n",
    "        self.max_speed = max_speed\n",
    "        self.average_of_vehicle = average_of_vehicle\n",
    "\n",
    "class car(vehicle):\n",
    "    def seating_capacity(self, capacity):\n",
    "        self.capacity = capacity\n",
    "        print(\"Name of vehicle is:\", self.name_of_vehicle)\n",
    "        print(\"Seating capacity is:\", self.capacity)"
   ]
  },
  {
   "cell_type": "code",
   "execution_count": 51,
   "id": "2c10b5b9-90e9-454f-94bb-3f2a8fce251d",
   "metadata": {},
   "outputs": [],
   "source": [
    "# Creating an object of the car class\n",
    "my_car = car(\"Toyota\", 200, 30)"
   ]
  },
  {
   "cell_type": "code",
   "execution_count": 52,
   "id": "90fc4773-3cac-4321-a196-e2fd3f11e594",
   "metadata": {},
   "outputs": [
    {
     "name": "stdout",
     "output_type": "stream",
     "text": [
      "Name of vehicle is: Toyota\n",
      "Seating capacity is: 5\n"
     ]
    }
   ],
   "source": [
    "# Calling the seating_capacity method\n",
    "my_car.seating_capacity(5)"
   ]
  },
  {
   "cell_type": "code",
   "execution_count": null,
   "id": "c6fdb6e6-2005-4be5-96cc-e63958eca937",
   "metadata": {},
   "outputs": [],
   "source": []
  },
  {
   "cell_type": "markdown",
   "id": "12ea81aa-f9b7-44fe-8560-30f47fb3c14a",
   "metadata": {},
   "source": [
    "## Q3. What is multiple inheritance? Write a python code to demonstrate multiple inheritance."
   ]
  },
  {
   "cell_type": "markdown",
   "id": "ff8c613b-9ada-4536-acc8-fb7b5488ba25",
   "metadata": {},
   "source": [
    "When a class can be derived from more than one base class this type of inheritance is called multiple inheritances. In multiple inheritances, all the features of the base classes are inherited into the derived class. \n"
   ]
  },
  {
   "cell_type": "code",
   "execution_count": 53,
   "id": "5fc75233-f5a4-441c-84ec-53fc37a64800",
   "metadata": {},
   "outputs": [],
   "source": [
    "# Example of Multiple inheritance:\n",
    "\n",
    "# Parent class\n",
    "class Father:\n",
    "    father_name = \"\"\n",
    "    \n",
    "    def fname(self):\n",
    "        print(self.father_name)\n",
    "        \n",
    "# Another Parent class:\n",
    "\n",
    "class Mother:\n",
    "    mother_name = \"\"\n",
    "    \n",
    "    def mname(self):\n",
    "        print(self.mother_name)\n",
    "        \n",
    "# Child class  which inherits from both the parent class:\n",
    "class Child (Father, Mother):\n",
    "        def parent(self):\n",
    "            print(\"Father is : \",self.father_name)\n",
    "            print(\"Mother is : \",self.mother_name)\n",
    "        "
   ]
  },
  {
   "cell_type": "code",
   "execution_count": 54,
   "id": "4d248945-1d8a-47aa-8b72-a4bd9fc013aa",
   "metadata": {},
   "outputs": [],
   "source": [
    "child1 = Child()"
   ]
  },
  {
   "cell_type": "code",
   "execution_count": 55,
   "id": "6856ae85-d622-457e-8c99-11b143e66fdf",
   "metadata": {},
   "outputs": [],
   "source": [
    "child1.father_name = 'ABC'"
   ]
  },
  {
   "cell_type": "code",
   "execution_count": 56,
   "id": "d953a6b5-db39-4631-9d01-4aad028a7a3c",
   "metadata": {},
   "outputs": [],
   "source": [
    "child1.mother_name = 'XYZ'"
   ]
  },
  {
   "cell_type": "code",
   "execution_count": 57,
   "id": "f69a4a0f-20b3-4a8c-8de3-6cd4539f7a64",
   "metadata": {},
   "outputs": [
    {
     "name": "stdout",
     "output_type": "stream",
     "text": [
      "Father is :  ABC\n",
      "Mother is :  XYZ\n"
     ]
    }
   ],
   "source": [
    "child1.parent()"
   ]
  },
  {
   "cell_type": "code",
   "execution_count": null,
   "id": "cfaaa084-a132-45bb-9b95-4c88e50423ad",
   "metadata": {},
   "outputs": [],
   "source": []
  },
  {
   "cell_type": "markdown",
   "id": "ecc063bc-a2cc-4218-89f0-b8d3c28c8dc7",
   "metadata": {},
   "source": [
    "## Q4. What are getter and setter in python? Create a class and create a getter and a setter method in this class."
   ]
  },
  {
   "cell_type": "markdown",
   "id": "acf346e9-4714-42c3-9123-77008d148309",
   "metadata": {},
   "source": [
    "Getter and setter are used when we want to add validation logic around getting and setting a value.\n",
    "It allow us to modify our encapsulated class field which is generally avoided to be accessed directly.\n",
    "Getter and setter are used generally when there is encapsulation process already done for our class."
   ]
  },
  {
   "cell_type": "code",
   "execution_count": 58,
   "id": "4579946b-f345-4c5e-9466-ddbc68080698",
   "metadata": {},
   "outputs": [],
   "source": [
    "# Lets take an example:\n",
    "\n",
    "class stu:\n",
    "    \n",
    "    def __init__(self, name, age, roll):\n",
    "        self.name = name\n",
    "        self.age = age \n",
    "        self.__roll = roll # Encapsulation done, made roll private instance"
   ]
  },
  {
   "cell_type": "code",
   "execution_count": 59,
   "id": "35398e4f-ffe8-417b-a318-742d79dbe758",
   "metadata": {},
   "outputs": [],
   "source": [
    "stu1 = stu('Faijan', 26, 1)"
   ]
  },
  {
   "cell_type": "code",
   "execution_count": 60,
   "id": "ace8e662-416f-42c1-b8f6-d908b899aea4",
   "metadata": {},
   "outputs": [],
   "source": [
    "# Here, we wont be able to access roll directly as we have encapsulated it."
   ]
  },
  {
   "cell_type": "code",
   "execution_count": 61,
   "id": "5812dc70-32e6-4f76-a60f-02dd2f1db917",
   "metadata": {},
   "outputs": [],
   "source": [
    "class stu:\n",
    "    \n",
    "    def __init__(self, name, age, roll):\n",
    "        self.name = name\n",
    "        self.age = age \n",
    "        self.__roll = roll # Encapsulation done, made roll private instance\n",
    "        \n",
    "    @property  # Using property decorator to get the value\n",
    "    def roll(self):\n",
    "        return self.__roll\n",
    "    \n",
    "    @roll.setter # Using setter to set the value\n",
    "    def set_roll(self, new_roll):\n",
    "        self.__roll = new_roll"
   ]
  },
  {
   "cell_type": "code",
   "execution_count": 62,
   "id": "147acb34-2a7b-4ea2-93ea-5fa76060ca2e",
   "metadata": {},
   "outputs": [],
   "source": [
    "stu2 = stu('Faijan Raja', 26, 1)"
   ]
  },
  {
   "cell_type": "code",
   "execution_count": 63,
   "id": "5a9117f9-3999-4e77-86ae-b06e8d0620db",
   "metadata": {},
   "outputs": [
    {
     "data": {
      "text/plain": [
       "1"
      ]
     },
     "execution_count": 63,
     "metadata": {},
     "output_type": "execute_result"
    }
   ],
   "source": [
    "stu2.roll # using getter to see the private value"
   ]
  },
  {
   "cell_type": "code",
   "execution_count": 64,
   "id": "c2da83af-c9ce-4d4f-bf35-4662dd6efdd5",
   "metadata": {},
   "outputs": [],
   "source": [
    "stu2.set_roll = 2 # Using setter to set the value"
   ]
  },
  {
   "cell_type": "code",
   "execution_count": 65,
   "id": "2fb4b118-2544-486a-929f-534b1d9bfccd",
   "metadata": {},
   "outputs": [
    {
     "data": {
      "text/plain": [
       "2"
      ]
     },
     "execution_count": 65,
     "metadata": {},
     "output_type": "execute_result"
    }
   ],
   "source": [
    "stu2.roll # using getter to see modified value"
   ]
  },
  {
   "cell_type": "code",
   "execution_count": null,
   "id": "c4f2bdda-bfc0-4732-b3b2-7f3b62e2b02a",
   "metadata": {},
   "outputs": [],
   "source": []
  },
  {
   "cell_type": "markdown",
   "id": "74fb29b8-b0d0-4d3f-be58-fab3deb52db5",
   "metadata": {},
   "source": [
    "## Q5.What is method overriding in python? Write a python code to demonstrate method overriding."
   ]
  },
  {
   "cell_type": "markdown",
   "id": "d9d137a0-e6af-4443-ab22-c868908a1091",
   "metadata": {},
   "source": [
    "Method overriding is a method in which same method is defined both in the parent class and the child class.\n",
    "The child though inherit from it's parent's class but still method with the same name in child class overrides the method in parent class. For this, inheritance is must."
   ]
  },
  {
   "cell_type": "code",
   "execution_count": 66,
   "id": "c926e296-b781-49b2-9870-e740abdc1025",
   "metadata": {},
   "outputs": [],
   "source": [
    "# Lets take an example:\n",
    "\n",
    "class parent:\n",
    "    \n",
    "    def message(self):\n",
    "        print(\"This is parent class\")\n",
    "\n",
    "class child(parent):\n",
    "    \n",
    "    def message(self):\n",
    "        print(\"This is child class with same method name which overrides parent mathod with same name\")"
   ]
  },
  {
   "cell_type": "code",
   "execution_count": 67,
   "id": "c6d9c85d-7887-436b-bf16-832e6019f1bf",
   "metadata": {},
   "outputs": [],
   "source": [
    "obj = child()"
   ]
  },
  {
   "cell_type": "code",
   "execution_count": 68,
   "id": "ea20d951-5916-428c-998e-7eb64c7bde41",
   "metadata": {},
   "outputs": [
    {
     "name": "stdout",
     "output_type": "stream",
     "text": [
      "This is child class with same method name which overrides parent mathod with same name\n"
     ]
    }
   ],
   "source": [
    "obj.message()"
   ]
  },
  {
   "cell_type": "code",
   "execution_count": null,
   "id": "75e3873d-8aa3-4a38-a754-96b43511fa23",
   "metadata": {},
   "outputs": [],
   "source": []
  }
 ],
 "metadata": {
  "kernelspec": {
   "display_name": "Python 3 (ipykernel)",
   "language": "python",
   "name": "python3"
  },
  "language_info": {
   "codemirror_mode": {
    "name": "ipython",
    "version": 3
   },
   "file_extension": ".py",
   "mimetype": "text/x-python",
   "name": "python",
   "nbconvert_exporter": "python",
   "pygments_lexer": "ipython3",
   "version": "3.10.8"
  }
 },
 "nbformat": 4,
 "nbformat_minor": 5
}
